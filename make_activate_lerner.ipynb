{
 "cells": [
  {
   "cell_type": "code",
   "execution_count": 1,
   "id": "9e774f0e",
   "metadata": {
    "ExecuteTime": {
     "end_time": "2022-10-26T14:16:10.057635Z",
     "start_time": "2022-10-26T14:16:09.273256Z"
    },
    "pycharm": {
     "is_executing": true,
     "name": "#%%\n"
    }
   },
   "outputs": [],
   "source": [
    "import datasets\n",
    "datasets.logging.set_verbosity_error()"
   ]
  },
  {
   "cell_type": "code",
   "execution_count": 2,
   "id": "4a3c52fe",
   "metadata": {
    "ExecuteTime": {
     "end_time": "2022-10-26T14:16:12.676239Z",
     "start_time": "2022-10-26T14:16:12.601296Z"
    },
    "pycharm": {
     "name": "#%%\n"
    }
   },
   "outputs": [],
   "source": [
    "from matplotlib import rcParams\n",
    "rcParams.update({'xtick.labelsize': 14, 'ytick.labelsize': 14, 'axes.labelsize': 16})\n",
    "\n",
    "import numpy as np"
   ]
  },
  {
   "cell_type": "code",
   "execution_count": 3,
   "id": "5b94568b",
   "metadata": {
    "ExecuteTime": {
     "end_time": "2022-10-26T14:16:16.772545Z",
     "start_time": "2022-10-26T14:16:14.210151Z"
    },
    "pycharm": {
     "name": "#%%\n"
    },
    "scrolled": true
   },
   "outputs": [
    {
     "name": "stderr",
     "output_type": "stream",
     "text": [
      "C:\\tools\\Miniconda3\\envs\\ai6103-project\\lib\\site-packages\\tensorflow\\python\\framework\\dtypes.py:526: FutureWarning: Passing (type, 1) or '1type' as a synonym of type is deprecated; in a future version of numpy, it will be understood as (type, (1,)) / '(1,)type'.\n",
      "  _np_qint8 = np.dtype([(\"qint8\", np.int8, 1)])\n",
      "C:\\tools\\Miniconda3\\envs\\ai6103-project\\lib\\site-packages\\tensorflow\\python\\framework\\dtypes.py:527: FutureWarning: Passing (type, 1) or '1type' as a synonym of type is deprecated; in a future version of numpy, it will be understood as (type, (1,)) / '(1,)type'.\n",
      "  _np_quint8 = np.dtype([(\"quint8\", np.uint8, 1)])\n",
      "C:\\tools\\Miniconda3\\envs\\ai6103-project\\lib\\site-packages\\tensorflow\\python\\framework\\dtypes.py:528: FutureWarning: Passing (type, 1) or '1type' as a synonym of type is deprecated; in a future version of numpy, it will be understood as (type, (1,)) / '(1,)type'.\n",
      "  _np_qint16 = np.dtype([(\"qint16\", np.int16, 1)])\n",
      "C:\\tools\\Miniconda3\\envs\\ai6103-project\\lib\\site-packages\\tensorflow\\python\\framework\\dtypes.py:529: FutureWarning: Passing (type, 1) or '1type' as a synonym of type is deprecated; in a future version of numpy, it will be understood as (type, (1,)) / '(1,)type'.\n",
      "  _np_quint16 = np.dtype([(\"quint16\", np.uint16, 1)])\n",
      "C:\\tools\\Miniconda3\\envs\\ai6103-project\\lib\\site-packages\\tensorflow\\python\\framework\\dtypes.py:530: FutureWarning: Passing (type, 1) or '1type' as a synonym of type is deprecated; in a future version of numpy, it will be understood as (type, (1,)) / '(1,)type'.\n",
      "  _np_qint32 = np.dtype([(\"qint32\", np.int32, 1)])\n",
      "C:\\tools\\Miniconda3\\envs\\ai6103-project\\lib\\site-packages\\tensorflow\\python\\framework\\dtypes.py:535: FutureWarning: Passing (type, 1) or '1type' as a synonym of type is deprecated; in a future version of numpy, it will be understood as (type, (1,)) / '(1,)type'.\n",
      "  np_resource = np.dtype([(\"resource\", np.ubyte, 1)])\n"
     ]
    },
    {
     "name": "stdout",
     "output_type": "stream",
     "text": [
      "WARNING:tensorflow:From D:\\study\\singaporeMasters\\term1\\ai6103\\final_project\\work\\data_loader_recsys_transfer_finetune_.py:31: VocabularyProcessor.__init__ (from tensorflow.contrib.learn.python.learn.preprocessing.text) is deprecated and will be removed in a future version.\n",
      "Instructions for updating:\n",
      "Please use tensorflow/transform or tf.data.\n",
      "WARNING:tensorflow:From C:\\tools\\Miniconda3\\envs\\ai6103-project\\lib\\site-packages\\tensorflow\\contrib\\learn\\python\\learn\\preprocessing\\text.py:154: CategoricalVocabulary.__init__ (from tensorflow.contrib.learn.python.learn.preprocessing.categorical_vocabulary) is deprecated and will be removed in a future version.\n",
      "Instructions for updating:\n",
      "Please use tensorflow/transform or tf.data.\n",
      "WARNING:tensorflow:From C:\\tools\\Miniconda3\\envs\\ai6103-project\\lib\\site-packages\\tensorflow\\contrib\\learn\\python\\learn\\preprocessing\\text.py:170: tokenizer (from tensorflow.contrib.learn.python.learn.preprocessing.text) is deprecated and will be removed in a future version.\n",
      "Instructions for updating:\n",
      "Please use tensorflow/transform or tf.data.\n",
      "('len(all_samples)', 10000)\n",
      "('len(items)', 117762)\n",
      "('len(targets)', 7)\n"
     ]
    }
   ],
   "source": [
    "# import argparse\n",
    "\n",
    "\n",
    "# parser = argparse.ArgumentParser()\n",
    "# parser.add_argument('--top_k', type=int, default=1,\n",
    "#                     help='Sample from top k predictions,you canot change this parameter when it is used for binary classification')\n",
    "# parser.add_argument('--beta1', type=float, default=0.9,\n",
    "#                     help='hyperpara-Adam')\n",
    "# parser.add_argument('--eval_iter', type=int, default=100,\n",
    "#                     help='Sample generator output evry x steps')\n",
    "# parser.add_argument('--save_para_every', type=int, default=100,\n",
    "#                     help='save model parameters every')\n",
    "\n",
    "# parser.add_argument('--datapath', type=str, default='Data/Session/LFDshort1w.csv',\n",
    "#                     help='data path')\n",
    "# parser.add_argument('--tt_percentage', type=float, default=0.9,\n",
    "#                     help='default=0.2 means 80% training 20% testing')\n",
    "# parser.add_argument('--is_generatesubsession', type=bool, default=False,\n",
    "#                     help='whether generating a subsessions, e.g., 12345-->01234,00123,00012  It may be useful for very some very long sequences')\n",
    "# parser.add_argument('--has_positionalembedding', type=bool, default=False,\n",
    "#                     help='whether contains positional embedding before performing cnnn')\n",
    "\n",
    "# parser.add_argument('--padtoken', type=str, default='0',\n",
    "#                     help='is the padding token in the beggining of the sequence')\n",
    "# parser.add_argument('--negtive_samples', type=int, default='5',\n",
    "#                     help='the number of target class -1, e.g. for binary classification it is 1 ,if the class is 7, then it is 6')\n",
    "# parser.add_argument('--is_shuffle', type=bool, default=False,\n",
    "#                     help='whether shuffle the training and testing dataset, e.g., 012345-->051324')\n",
    "# args = parser.parse_args()\n",
    "import data_loader_recsys_transfer_finetune_ as data_loader_recsys\n",
    "\n",
    "\n",
    "dl = data_loader_recsys.Data_Loader({'model_type': 'generator', 'dir_name': 'Data/Session/LFDshort1w.csv'})\n",
    "\n",
    "all_samples = dl.example\n",
    "print((\"len(all_samples)\", len(all_samples)))\n",
    "items = dl.item_dict\n",
    "items_len = len(items)\n",
    "print((\"len(items)\", len(items)))\n",
    "targets = dl.target_dict\n",
    "targets_len=len(targets)\n",
    "print((\"len(targets)\", len(targets)))\n",
    "\n",
    "negtive_samples=5\n",
    "top_k=1\n",
    "\n",
    "if 0 in items:\n",
    "    padtoken = items[0]  # is the padding token in the beggining of the sentence\n",
    "else:\n",
    "    padtoken=len(items)+1\n",
    "\n",
    "np.random.seed(10)\n",
    "shuffle_indices = np.random.permutation(np.arange(len(all_samples)))\n",
    "all_samples = all_samples[shuffle_indices]\n",
    "\n",
    "dev_sample_index = -1 * int(0.9 * float(len(all_samples)))\n",
    "train_set, valid_set = all_samples[:dev_sample_index], all_samples[dev_sample_index:]"
   ]
  },
  {
   "cell_type": "code",
   "execution_count": 4,
   "id": "f2e7c349",
   "metadata": {
    "ExecuteTime": {
     "end_time": "2022-10-26T14:16:20.984382Z",
     "start_time": "2022-10-26T14:16:20.973390Z"
    },
    "pycharm": {
     "name": "#%%\n"
    }
   },
   "outputs": [
    {
     "data": {
      "text/plain": [
       "numpy.ndarray"
      ]
     },
     "execution_count": 4,
     "metadata": {},
     "output_type": "execute_result"
    }
   ],
   "source": [
    "type(train_set[19])"
   ]
  },
  {
   "cell_type": "code",
   "execution_count": 5,
   "id": "2658d3cf",
   "metadata": {
    "ExecuteTime": {
     "end_time": "2022-10-26T14:16:21.801696Z",
     "start_time": "2022-10-26T14:16:21.453719Z"
    },
    "pycharm": {
     "name": "#%%\n"
    }
   },
   "outputs": [],
   "source": [
    "from small_text.data.datasets import SklearnDataset\n",
    "\n",
    "train_set_active = SklearnDataset(train_set[:,0:-1], train_set[:,-1], [1,2,3,4,5,6])"
   ]
  },
  {
   "cell_type": "code",
   "execution_count": 6,
   "id": "c3ff862e",
   "metadata": {
    "ExecuteTime": {
     "end_time": "2022-10-26T14:16:22.295789Z",
     "start_time": "2022-10-26T14:16:22.278571Z"
    },
    "pycharm": {
     "name": "#%%\n"
    }
   },
   "outputs": [
    {
     "data": {
      "text/plain": [
       "numpy.ndarray"
      ]
     },
     "execution_count": 6,
     "metadata": {},
     "output_type": "execute_result"
    }
   ],
   "source": [
    "type(train_set_active.x)"
   ]
  },
  {
   "cell_type": "code",
   "execution_count": 7,
   "id": "9bb4e101",
   "metadata": {
    "ExecuteTime": {
     "end_time": "2022-10-26T14:16:25.231388Z",
     "start_time": "2022-10-26T14:16:25.218315Z"
    },
    "pycharm": {
     "name": "#%%\n"
    }
   },
   "outputs": [],
   "source": [
    "from small_text.active_learner import PoolBasedActiveLearner\n",
    "from small_text.initialization import random_initialization_balanced\n",
    "from small_text.query_strategies import PredictionEntropy\n",
    "from small_text.classifiers import ConfidenceEnhancedLinearSVC\n",
    "from small_text.classifiers.factories import SklearnClassifierFactory\n",
    "\n",
    "\n",
    "\n",
    "model = ConfidenceEnhancedLinearSVC()\n",
    "num_classes = 6\n",
    "clf_factory = SklearnClassifierFactory(model, num_classes)\n",
    "query_strategy = PredictionEntropy() # changeable\n",
    "active_learner = PoolBasedActiveLearner(clf_factory, query_strategy, train_set_active)"
   ]
  },
  {
   "cell_type": "code",
   "execution_count": 8,
   "id": "e2d8952c",
   "metadata": {
    "ExecuteTime": {
     "end_time": "2022-10-26T14:16:27.331427Z",
     "start_time": "2022-10-26T14:16:27.314973Z"
    },
    "pycharm": {
     "name": "#%%\n"
    }
   },
   "outputs": [],
   "source": [
    "def initialize_active_learner(active_learner, y_train):\n",
    "    indices_initial = random_initialization_balanced(y_train, n_samples=20)\n",
    "    active_learner.initialize_data(indices_initial, y_train[indices_initial])\n",
    "\n",
    "    return indices_initial\n",
    "\n",
    "indices_labeled = initialize_active_learner(active_learner, train_set_active.y)\n"
   ]
  },
  {
   "cell_type": "code",
   "execution_count": 9,
   "id": "8a344608",
   "metadata": {
    "ExecuteTime": {
     "end_time": "2022-10-26T14:16:28.511424Z",
     "start_time": "2022-10-26T14:16:28.497935Z"
    },
    "pycharm": {
     "name": "#%%\n"
    }
   },
   "outputs": [
    {
     "data": {
      "text/plain": [
       "array([    0,     1,     1,     1,     1,     1,     1,     1,     1,\n",
       "           1,     1,     1,     1,     1,     1,     1,     1,     1,\n",
       "           1,     1,     1,     1,     1,     1,     1,     1,     1,\n",
       "           1,     1,     1,     1,     1,     1,     1,     1,     1,\n",
       "           1,     1,     1,     1,     1,     1,     1,     1,     1,\n",
       "           1,     1,     1,     1,     1,     1,     1,     1,     1,\n",
       "           1,     1,     1,     1,     1,     1,     1,     1,     1,\n",
       "           1,     1,     1,     1,     1,     1,     1,     1,     1,\n",
       "           1,     1,     1,     1,     1,     1,     1,     1,     1,\n",
       "           1,     1,     1,     1,     1,     1,     1,     1,     1,\n",
       "        5021, 26184,  2152,  3461,  2178,  1189, 26185,  2148,  3215,\n",
       "       26186,  3042,     0], dtype=int64)"
      ]
     },
     "execution_count": 9,
     "metadata": {},
     "output_type": "execute_result"
    }
   ],
   "source": [
    "train_set_active.x[0]"
   ]
  },
  {
   "cell_type": "code",
   "execution_count": 10,
   "id": "d0626139",
   "metadata": {
    "ExecuteTime": {
     "end_time": "2022-10-26T14:16:30.805980Z",
     "start_time": "2022-10-26T14:16:30.795633Z"
    },
    "pycharm": {
     "name": "#%%\n"
    }
   },
   "outputs": [],
   "source": [
    "def generate_train_data(indices_labeled, train_set_active):\n",
    "    to_return = np.array([],dtype=np.int64)\n",
    "    new_return = train_set_active.x[indices_labeled]\n",
    "    new_y = train_set_active.y[indices_labeled].reshape((20,1))\n",
    "#     print(new_return.dtype)\n",
    "#     print(new_y.shape)\n",
    "    for i in range(0, 20):\n",
    "        to_return = np.append(to_return, new_return[i])\n",
    "        to_return = np.append(to_return, new_y[i])\n",
    "#     print(to_return.shape)\n",
    "    return to_return.reshape((20,-1))"
   ]
  },
  {
   "cell_type": "code",
   "execution_count": 11,
   "id": "4166dd8d",
   "metadata": {
    "ExecuteTime": {
     "end_time": "2022-10-26T14:16:31.995323Z",
     "start_time": "2022-10-26T14:16:31.975185Z"
    },
    "pycharm": {
     "name": "#%%\n"
    }
   },
   "outputs": [],
   "source": [
    "to_train = generate_train_data(indices_labeled, train_set_active)"
   ]
  },
  {
   "cell_type": "markdown",
   "id": "2b3a8227",
   "metadata": {
    "pycharm": {
     "name": "#%% md\n"
    }
   },
   "source": []
  },
  {
   "cell_type": "code",
   "execution_count": 19,
   "id": "4f269afd",
   "metadata": {
    "ExecuteTime": {
     "end_time": "2022-10-26T14:31:08.264487Z",
     "start_time": "2022-10-26T14:31:08.244565Z"
    },
    "pycharm": {
     "name": "#%%\n"
    }
   },
   "outputs": [
    {
     "data": {
      "text/plain": [
       "numpy.ndarray"
      ]
     },
     "execution_count": 19,
     "metadata": {},
     "output_type": "execute_result"
    }
   ],
   "source": [
    "type(indices_labeled)"
   ]
  },
  {
   "cell_type": "code",
   "execution_count": null,
   "id": "92ce9b4e",
   "metadata": {
    "pycharm": {
     "name": "#%%\n"
    }
   },
   "outputs": [],
   "source": [
    "for i in range(20):\n",
    "    indices_queried = active_learner.query(num_samples=20)\n",
    "    \n",
    "    to_train = np.append(to_train, generate_train_data(indices_queried, train_set_active))\n",
    "    # Simulate user interaction here. Replace this for real-world usage.\n",
    "    y = train_set_active.y[indices_queried]\n",
    "\n",
    "    # Return the labels for the current query to the active learner.\n",
    "    active_learner.update(y)\n",
    "    indices_labeled = np.concatenate([indices_queried, indices_labeled])"
   ]
  },
  {
   "cell_type": "code",
   "execution_count": null,
   "id": "e04bc81f",
   "metadata": {
    "ExecuteTime": {
     "end_time": "2022-10-25T08:31:11.514915Z",
     "start_time": "2022-10-25T08:31:10.051989Z"
    },
    "pycharm": {
     "name": "#%%\n"
    }
   },
   "outputs": [],
   "source": [
    "for i in range(20):\n",
    "    indices_queried = active_learner.query(num_samples=20)\n",
    "    \n",
    "    to_train = np.append(to_train, generate_train_data(indices_queried, train_set_active))\n",
    "    # Simulate user interaction here. Replace this for real-world usage.\n",
    "    y = train_set_active.y[indices_queried]\n",
    "\n",
    "    # Return the labels for the current query to the active learner.\n",
    "    active_learner.update(y)\n",
    "    indices_labeled = np.concatenate([indices_queried, indices_labeled])"
   ]
  },
  {
   "cell_type": "code",
   "execution_count": null,
   "id": "90627e7a",
   "metadata": {
    "ExecuteTime": {
     "end_time": "2022-10-25T08:38:28.385074Z",
     "start_time": "2022-10-25T08:38:28.375075Z"
    },
    "pycharm": {
     "name": "#%%\n"
    }
   },
   "outputs": [],
   "source": [
    "to_train.reshape((-1,103)).shape"
   ]
  },
  {
   "cell_type": "code",
   "execution_count": 21,
   "id": "d029419b",
   "metadata": {
    "ExecuteTime": {
     "end_time": "2022-10-26T15:13:51.899781Z",
     "start_time": "2022-10-26T15:13:51.881283Z"
    },
    "pycharm": {
     "name": "#%%\n"
    }
   },
   "outputs": [
    {
     "data": {
      "text/plain": [
       "False"
      ]
     },
     "execution_count": 21,
     "metadata": {},
     "output_type": "execute_result"
    }
   ],
   "source": [
    "import tensorflow as tf\n",
    "tf.test.is_gpu_available()"
   ]
  },
  {
   "cell_type": "code",
   "execution_count": null,
   "id": "57da95a8",
   "metadata": {},
   "outputs": [],
   "source": []
  }
 ],
 "metadata": {
  "kernelspec": {
   "display_name": "ai6103-project",
   "language": "python",
   "name": "ai6103-project"
  },
  "language_info": {
   "codemirror_mode": {
    "name": "ipython",
    "version": 3
   },
   "file_extension": ".py",
   "mimetype": "text/x-python",
   "name": "python",
   "nbconvert_exporter": "python",
   "pygments_lexer": "ipython3",
   "version": "3.7.13"
  },
  "toc": {
   "base_numbering": 1,
   "nav_menu": {},
   "number_sections": true,
   "sideBar": true,
   "skip_h1_title": false,
   "title_cell": "Table of Contents",
   "title_sidebar": "Contents",
   "toc_cell": false,
   "toc_position": {},
   "toc_section_display": true,
   "toc_window_display": false
  },
  "varInspector": {
   "cols": {
    "lenName": 16,
    "lenType": "15",
    "lenVar": 40
   },
   "kernels_config": {
    "python": {
     "delete_cmd_postfix": "",
     "delete_cmd_prefix": "del ",
     "library": "var_list.py",
     "varRefreshCmd": "print(var_dic_list())"
    },
    "r": {
     "delete_cmd_postfix": ") ",
     "delete_cmd_prefix": "rm(",
     "library": "var_list.r",
     "varRefreshCmd": "cat(var_dic_list()) "
    }
   },
   "types_to_exclude": [
    "module",
    "function",
    "builtin_function_or_method",
    "instance",
    "_Feature"
   ],
   "window_display": false
  }
 },
 "nbformat": 4,
 "nbformat_minor": 5
}
